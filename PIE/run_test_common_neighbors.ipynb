{
 "cells": [
  {
   "cell_type": "code",
   "execution_count": 9,
   "metadata": {},
   "outputs": [],
   "source": [
    "import pickle, numpy as np\n"
   ]
  },
  {
   "cell_type": "code",
   "execution_count": 10,
   "metadata": {},
   "outputs": [],
   "source": [
    "# deepseek\n",
    "def common_neighbors(G, u, v):\n",
    "    common_neighbors = []\n",
    "    for node in G:\n",
    "        if node in G[u] and node in G[v]:\n",
    "            common_neighbors.append(node)\n",
    "    return common_neighbors\n"
   ]
  },
  {
   "cell_type": "code",
   "execution_count": 11,
   "metadata": {},
   "outputs": [],
   "source": [
    "### 8b\n",
    "\n",
    "# def common_neighbors(G, u, v):\n",
    "#     common_neighbors = []\n",
    "#     for i in range(len(G)):\n",
    "#         if i!= u and i!= v and (i in G[u] and i in G[v]):\n",
    "#             common_neighbors.append(i)\n",
    "#     return common_neighbors\n",
    "\n",
    "\n"
   ]
  },
  {
   "cell_type": "code",
   "execution_count": 12,
   "metadata": {},
   "outputs": [],
   "source": [
    "### 70b\n",
    "\n",
    "# def common_neighbors(G, u, v):\n",
    "#     common_neighbors = []\n",
    "#     for node in range(len(G)):\n",
    "#         if (node in G[u] or G[u][0] == -1) and (node in G[v] or G[v][0] == -1) and node != u and node != v:\n",
    "#             common_neighbors.append(node)\n",
    "#     return common_neighbors"
   ]
  },
  {
   "cell_type": "code",
   "execution_count": 13,
   "metadata": {},
   "outputs": [],
   "source": [
    "### without pse\n",
    "def common_neighbors(G, u, v):\n",
    "    return list(set(G[u]) & set(G[v]))"
   ]
  },
  {
   "cell_type": "code",
   "execution_count": 14,
   "metadata": {},
   "outputs": [],
   "source": [
    "def read_graph(g):\n",
    "    node_number = g.number_of_nodes()\n",
    "    G = [[] for _ in range(node_number)]\n",
    "    for edge in g.edges():\n",
    "        # print(\"edge == \", edge)\n",
    "        G[edge[0]].append(edge[1])\n",
    "    return G"
   ]
  },
  {
   "cell_type": "code",
   "execution_count": 15,
   "metadata": {},
   "outputs": [
    {
     "name": "stdout",
     "output_type": "stream",
     "text": [
      "tot ==  500\n",
      "correct rate is 100.00%\n",
      "cost time is 0.02s\n",
      "node number: 8\n",
      "edge number: 43\n",
      "tot ==  500\n",
      "correct rate is 100.00%\n",
      "cost time is 0.06s\n",
      "node number: 29\n",
      "edge number: 230\n"
     ]
    }
   ],
   "source": [
    "import time \n",
    "for name in [\"Neighbor_easy\", \"Neighbor_hard\"]:\n",
    "    t1 = time.time()\n",
    "    with open(f'dataset/{name}.pkl', 'rb') as file:\n",
    "        data = pickle.load(file)\n",
    "        \n",
    "    tot = len(data)\n",
    "    print(\"tot == \", tot)\n",
    "    correct = 0\n",
    "    node, edge = [], []\n",
    "    for i, x in enumerate(data):\n",
    "        exact_answer, graph, u, v = x[\"exact_answer\"], x[\"graph\"], x[\"node1\"], x[\"node2\"]\n",
    "        node_number, edge_number = graph.number_of_nodes(), graph.number_of_edges()\n",
    "        node.append(node_number)\n",
    "        edge.append(edge_number)\n",
    "        G = read_graph(graph)\n",
    "        predicted_path = common_neighbors(G, u, v)\n",
    "        predicted_answer = len(predicted_path)\n",
    "        # path = sorted(path)\n",
    "        # predicted_path = sorted(predicted_path)\n",
    "        if (exact_answer != predicted_answer):\n",
    "            print(f\"{i}th result is wrong\")\n",
    "        else:\n",
    "            correct += 1\n",
    "    print(f\"correct rate is {correct / tot * 100:.2f}%\")\n",
    "    t2 = time.time()\n",
    "    print(f\"cost time is {t2 - t1:.2f}s\")\n",
    "    print(f\"node number: {int(np.mean(node))}\")\n",
    "    print(f\"edge number: {int(np.mean(edge))}\")"
   ]
  }
 ],
 "metadata": {
  "kernelspec": {
   "display_name": "Python 3 (ipykernel)",
   "language": "python",
   "name": "python3"
  },
  "language_info": {
   "codemirror_mode": {
    "name": "ipython",
    "version": 3
   },
   "file_extension": ".py",
   "mimetype": "text/x-python",
   "name": "python",
   "nbconvert_exporter": "python",
   "pygments_lexer": "ipython3",
   "version": "3.12.2"
  },
  "orig_nbformat": 4
 },
 "nbformat": 4,
 "nbformat_minor": 2
}
