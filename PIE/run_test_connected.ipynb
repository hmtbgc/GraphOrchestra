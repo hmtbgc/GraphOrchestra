{
 "cells": [
  {
   "cell_type": "code",
   "execution_count": null,
   "metadata": {},
   "outputs": [],
   "source": [
    "import pickle\n",
    "import numpy as np\n"
   ]
  },
  {
   "cell_type": "code",
   "execution_count": null,
   "metadata": {},
   "outputs": [],
   "source": [
    "## deepseek\n",
    "def connected_component_undirected(G):\n",
    "    visited = set()\n",
    "    result = 0\n",
    "    for node in range(len(G)):\n",
    "        if node not in visited:\n",
    "            queue = [node]\n",
    "            visited.add(node)\n",
    "            while queue:\n",
    "                u = queue.pop(0)\n",
    "                for v in G[u]:\n",
    "                    if v not in visited:\n",
    "                        visited.add(v)\n",
    "                        queue.append(v)\n",
    "            result += 1\n",
    "    return result"
   ]
  },
  {
   "cell_type": "code",
   "execution_count": null,
   "metadata": {},
   "outputs": [],
   "source": [
    "# ### 8b\n",
    "\n",
    "# def connected_component_undirected(G):\n",
    "#     V = set(range(len(G)))\n",
    "#     V_prime = set()\n",
    "#     result = []\n",
    "#     K = 1\n",
    "\n",
    "#     while V_prime!= V:\n",
    "#         s = next((node for node in V if node not in V_prime), None)\n",
    "#         if s is None:\n",
    "#             raise ValueError(\"Graph is empty or all nodes have been visited\")\n",
    "        \n",
    "#         V_prime.add(s)\n",
    "#         C_K = [s]\n",
    "#         Q = [s]\n",
    "\n",
    "#         while Q:\n",
    "#             u = Q.pop(0)\n",
    "#             for v in G[u]:\n",
    "#                 if v not in V_prime:\n",
    "#                     V_prime.add(v)\n",
    "#                     Q.append(v)\n",
    "#                     C_K.append(v)\n",
    "\n",
    "#         result.append(C_K)\n",
    "#         K += 1\n",
    "\n",
    "#     return K - 1\n"
   ]
  },
  {
   "cell_type": "code",
   "execution_count": null,
   "metadata": {},
   "outputs": [],
   "source": [
    "### 70b\n",
    "\n",
    "# def connected_component_undirected(G):\n",
    "#     V = set(range(len(G)))\n",
    "#     V_prime = set()\n",
    "#     K = 0\n",
    "#     result = []\n",
    "    \n",
    "#     while len(V) != len(V_prime):\n",
    "#         s = (V - V_prime).pop()\n",
    "#         V_prime.add(s)\n",
    "#         C_K = [s]\n",
    "#         Q = [s]\n",
    "        \n",
    "#         while Q:\n",
    "#             u = Q.pop(0)\n",
    "#             for v in G[u]:\n",
    "#                 if v not in V_prime:\n",
    "#                     V_prime.add(v)\n",
    "#                     Q.append(v)\n",
    "#                     C_K.append(v)\n",
    "                    \n",
    "#         result.append(C_K)\n",
    "#         K += 1\n",
    "        \n",
    "#     return len(result)\n"
   ]
  },
  {
   "cell_type": "code",
   "execution_count": null,
   "metadata": {},
   "outputs": [],
   "source": [
    "def read_graph(g):\n",
    "    node_number = g.number_of_nodes()\n",
    "    G = [[] for _ in range(node_number)]\n",
    "    for edge in g.edges():\n",
    "        # print(\"edge == \", edge)\n",
    "        G[edge[0]].append(edge[1])\n",
    "    return G"
   ]
  },
  {
   "cell_type": "code",
   "execution_count": null,
   "metadata": {},
   "outputs": [],
   "source": [
    "import time\n",
    "for name in [\"Connected_easy\", \"Connected_hard\"]:\n",
    "    t1 = time.time()\n",
    "    with open(f'dataset/{name}.pkl', 'rb') as file:\n",
    "        data = pickle.load(file)\n",
    "    tot = len(data)\n",
    "    print(f\"total number of test cases: {tot}\")\n",
    "    correct = 0\n",
    "    node, edge = [], []\n",
    "    for i, x in enumerate(data):\n",
    "        exact_answer, graph = x[\"exact_answer\"], x[\"graph\"]\n",
    "        node_number, edge_number = graph.number_of_nodes(), graph.number_of_edges()\n",
    "        node.append(node_number)\n",
    "        edge.append(edge_number)\n",
    "        G = read_graph(graph)\n",
    "        predicted_answer = connected_component_undirected(G)\n",
    "        if (exact_answer != predicted_answer):\n",
    "            print(f\"{i}th result is wrong\")\n",
    "        else:\n",
    "            correct += 1\n",
    "    print(f\"correct rate is {correct / tot * 100:.2f}%\")\n",
    "    t2 = time.time()\n",
    "    print(f\"cost time: {t2 - t1:.2f}s\")\n",
    "    print(f\"node number: {int(np.mean(node))}\")\n",
    "    print(f\"edge number: {int(np.mean(edge))}\")"
   ]
  }
 ],
 "metadata": {
  "kernelspec": {
   "display_name": "Python 3 (ipykernel)",
   "language": "python",
   "name": "python3"
  },
  "language_info": {
   "codemirror_mode": {
    "name": "ipython",
    "version": 3
   },
   "file_extension": ".py",
   "mimetype": "text/x-python",
   "name": "python",
   "nbconvert_exporter": "python",
   "pygments_lexer": "ipython3",
   "version": "3.12.2"
  },
  "orig_nbformat": 4
 },
 "nbformat": 4,
 "nbformat_minor": 2
}
