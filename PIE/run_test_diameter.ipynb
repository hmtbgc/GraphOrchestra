{
 "cells": [
  {
   "cell_type": "code",
   "execution_count": null,
   "metadata": {},
   "outputs": [],
   "source": [
    "import pickle\n",
    "import numpy as np"
   ]
  },
  {
   "cell_type": "code",
   "execution_count": null,
   "metadata": {},
   "outputs": [],
   "source": [
    "## deepseek\n",
    "from collections import deque\n",
    "\n",
    "def graph_diameter(G):\n",
    "    diameter = 0\n",
    "    for start in range(len(G)):\n",
    "        visited = set()\n",
    "        distance = {node: float('inf') for node in range(len(G))}\n",
    "        queue = deque([start])\n",
    "        distance[start] = 0\n",
    "        while queue:\n",
    "            current_node = queue.popleft()\n",
    "            visited.add(current_node)\n",
    "            for neighbor in G[current_node]:\n",
    "                if neighbor not in visited:\n",
    "                    visited.add(neighbor)\n",
    "                    distance[neighbor] = distance[current_node] + 1\n",
    "                    queue.append(neighbor)\n",
    "        longest_path = max(distance.values())\n",
    "        diameter = max(diameter, longest_path)\n",
    "    return diameter\n"
   ]
  },
  {
   "cell_type": "code",
   "execution_count": null,
   "metadata": {},
   "outputs": [],
   "source": [
    "### 8b\n",
    "\n",
    "\n",
    "# from collections import deque\n",
    "\n",
    "# def graph_diameter(G):\n",
    "#     n = len(G)\n",
    "#     diameter = 0\n",
    "\n",
    "#     for i in range(n):\n",
    "#         distance = {j: float('inf') for j in range(n)}\n",
    "#         distance[i] = 0\n",
    "#         visited = set()\n",
    "#         queue = deque([i])\n",
    "\n",
    "#         while queue:\n",
    "#             current_node = queue.popleft()\n",
    "#             visited.add(current_node)\n",
    "\n",
    "#             for neighbor in G[current_node]:\n",
    "#                 if neighbor not in visited:\n",
    "#                     distance[neighbor] = min(distance[neighbor], distance[current_node] + 1)\n",
    "#                     queue.append(neighbor)\n",
    "\n",
    "#         max_distance = max(distance.values())\n",
    "#         diameter = max(diameter, max_distance)\n",
    "\n",
    "#     return diameter\n"
   ]
  },
  {
   "cell_type": "code",
   "execution_count": null,
   "metadata": {},
   "outputs": [],
   "source": [
    "### 70b\n",
    "\n",
    "# def graph_diameter(G):\n",
    "#     import collections\n",
    "#     n = len(G)\n",
    "#     diameter = 0\n",
    "#     for i in range(n):\n",
    "#         visited = set()\n",
    "#         distance = {node: float('inf') for node in range(n)}\n",
    "#         distance[i] = 0\n",
    "#         queue = collections.deque([i])\n",
    "#         while queue:\n",
    "#             current_node = queue.popleft()\n",
    "#             if current_node not in visited:\n",
    "#                 visited.add(current_node)\n",
    "#                 for neighbor in G[current_node]:\n",
    "#                     if neighbor not in visited:\n",
    "#                         distance[neighbor] = min(distance[neighbor], distance[current_node] + 1)\n",
    "#                         queue.append(neighbor)\n",
    "#         diameter = max(diameter, max(distance.values()))\n",
    "#     return diameter\n"
   ]
  },
  {
   "cell_type": "code",
   "execution_count": null,
   "metadata": {},
   "outputs": [],
   "source": [
    "def read_graph(g):\n",
    "    node_number = g.number_of_nodes()\n",
    "    G = [[] for _ in range(node_number)]\n",
    "    for edge in g.edges():\n",
    "        # print(\"edge == \", edge)\n",
    "        G[edge[0]].append(edge[1])\n",
    "    return G"
   ]
  },
  {
   "cell_type": "code",
   "execution_count": null,
   "metadata": {},
   "outputs": [],
   "source": [
    "import time"
   ]
  },
  {
   "cell_type": "code",
   "execution_count": null,
   "metadata": {},
   "outputs": [],
   "source": [
    "for name in [\"Diameter_easy\", \"Diameter_hard\"]:\n",
    "    t1 = time.time()\n",
    "    with open(f'dataset/{name}.pkl', 'rb') as file:\n",
    "        data = pickle.load(file)\n",
    "    tot = len(data)\n",
    "    print(\"tot == \", tot)\n",
    "    correct = 0\n",
    "    node, edge = [], []\n",
    "    for i, x in enumerate(data):\n",
    "        exact_answer, graph = x[\"exact_answer\"], x[\"graph\"]\n",
    "        node_number, edge_number = graph.number_of_nodes(), graph.number_of_edges()\n",
    "        node.append(node_number)\n",
    "        edge.append(edge_number)\n",
    "        G = read_graph(graph)\n",
    "        predicted_answer = graph_diameter(G)\n",
    "        if (exact_answer != predicted_answer):\n",
    "            print(f\"{i}th result is wrong\")\n",
    "        else:\n",
    "            correct += 1\n",
    "    print(f\"correct rate is {correct / tot * 100:.2f}%\")\n",
    "    t2 = time.time()\n",
    "    print(f\"cost {t2 - t1:.2f} seconds\")\n",
    "    print(f\"node number: {int(np.mean(node))}\")\n",
    "    print(f\"edge number: {int(np.mean(edge))}\")"
   ]
  }
 ],
 "metadata": {
  "kernelspec": {
   "display_name": "gongc",
   "language": "python",
   "name": "python3"
  },
  "language_info": {
   "codemirror_mode": {
    "name": "ipython",
    "version": 3
   },
   "file_extension": ".py",
   "mimetype": "text/x-python",
   "name": "python",
   "nbconvert_exporter": "python",
   "pygments_lexer": "ipython3",
   "version": "3.10.15"
  },
  "orig_nbformat": 4
 },
 "nbformat": 4,
 "nbformat_minor": 2
}
