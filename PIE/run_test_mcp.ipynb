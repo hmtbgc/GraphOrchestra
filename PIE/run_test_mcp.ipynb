{
 "cells": [
  {
   "cell_type": "code",
   "execution_count": null,
   "metadata": {},
   "outputs": [],
   "source": [
    "import pickle\n",
    "from tqdm import tqdm\n",
    "import time\n",
    "import numpy as np\n",
    "name = \"MCP_hard\"\n",
    "with open(f'dataset/{name}.pkl', 'rb') as file:\n",
    "    data = pickle.load(file)"
   ]
  },
  {
   "cell_type": "code",
   "execution_count": null,
   "metadata": {},
   "outputs": [],
   "source": [
    "## deepseek\n",
    "def maximum_clique(G):\n",
    "    def bron_kerbosch_recursive(r, p, x):\n",
    "        nonlocal max_size\n",
    "        if not p and not x:\n",
    "            max_size = max(max_size, len(r))\n",
    "            return\n",
    "        for v in list(p):\n",
    "            new_r = r | {v}\n",
    "            new_p = p & set(G[v])\n",
    "            new_x = x & set(G[v])\n",
    "            bron_kerbosch_recursive(new_r, new_p, new_x)\n",
    "            p.remove(v)\n",
    "            x.add(v)\n",
    "    \n",
    "    max_size = 0\n",
    "    bron_kerbosch_recursive(set(), set(range(len(G))), set())\n",
    "    return max_size"
   ]
  },
  {
   "cell_type": "code",
   "execution_count": null,
   "metadata": {},
   "outputs": [],
   "source": [
    "### 8b\n",
    "\n",
    "# def maximum_clique(G):\n",
    "#     def neighbors(vertex):\n",
    "#         return G[vertex]\n",
    "\n",
    "#     def bron_kerbosch_recursive(r, p, x):\n",
    "#         if not p and not x:\n",
    "#             return [r]\n",
    "#         max_cliques = []\n",
    "#         for v in list(p):\n",
    "#             new_r = r | {v}\n",
    "#             new_p = p & set(neighbors(v))\n",
    "#             new_x = x & set(neighbors(v))\n",
    "#             max_cliques.extend(bron_kerbosch_recursive(new_r, new_p, new_x))\n",
    "#             p.remove(v)\n",
    "#             x.add(v)\n",
    "#         return max_cliques\n",
    "\n",
    "#     max_cliques = bron_kerbosch_recursive(set(), set(range(len(G))), set())\n",
    "#     return max(len(clique) for clique in max_cliques)\n"
   ]
  },
  {
   "cell_type": "code",
   "execution_count": null,
   "metadata": {},
   "outputs": [],
   "source": [
    "# ### 70b\n",
    "\n",
    "# def maximum_clique(G):\n",
    "#     n = len(G)\n",
    "#     max_size = 0\n",
    "    \n",
    "#     def bron_kerbosch_recursive(r, p, x):\n",
    "#         nonlocal max_size\n",
    "        \n",
    "#         if not p and not x:\n",
    "#             if len(r) > max_size:\n",
    "#                 max_size = len(r)\n",
    "        \n",
    "#         for v in list(p):\n",
    "#             new_r = r | {v}\n",
    "#             new_p = p & set(G[v])\n",
    "#             new_x = x & set(G[v])\n",
    "            \n",
    "#             bron_kerbosch_recursive(new_r, new_p, new_x)\n",
    "            \n",
    "#             p -= {v}\n",
    "#             x |= {v}\n",
    "    \n",
    "#     V = set(range(n))\n",
    "#     bron_kerbosch_recursive(set(), V, set())\n",
    "#     return max_size\n"
   ]
  },
  {
   "cell_type": "code",
   "execution_count": null,
   "metadata": {},
   "outputs": [],
   "source": [
    "def read_graph(g):\n",
    "    node_number = g.number_of_nodes()\n",
    "    G = [[] for _ in range(node_number)]\n",
    "    for edge in g.edges():\n",
    "        # print(\"edge == \", edge)\n",
    "        G[edge[0]].append(edge[1])\n",
    "    return G"
   ]
  },
  {
   "cell_type": "code",
   "execution_count": null,
   "metadata": {},
   "outputs": [],
   "source": [
    "tot = len(data)\n",
    "print(tot)\n",
    "correct = 0\n",
    "error = 0\n",
    "feasible = 0\n",
    "node, edge = [], []\n",
    "t1 = time.time()\n",
    "for i, x in tqdm(enumerate(data)):\n",
    "    exact_answer, graph = x[\"exact_answer\"], x[\"graph\"]\n",
    "    node.append(graph.number_of_nodes())\n",
    "    edge.append(graph.number_of_edges())\n",
    "    G = read_graph(graph)\n",
    "    predicted_answer = maximum_clique(G)\n",
    "    if (exact_answer != predicted_answer):\n",
    "        print(f\"{i}th result is wrong\")\n",
    "    else:\n",
    "        correct += 1\n",
    "    error += (abs(predicted_answer - exact_answer) / exact_answer)\n",
    "    if (predicted_answer <= exact_answer):\n",
    "        feasible += 1\n",
    "print(f\"correct rate is {correct / tot * 100:.2f}%\")\n",
    "print(f\"approximation ratio is {error / tot:.5f}\")\n",
    "print(f\"feasible rate is {feasible / tot * 100:.2f}%\")\n",
    "t2 = time.time()\n",
    "print(f\"total time is {t2 - t1:.2f}s\")\n",
    "print(f\"node number: {int(np.mean(node))}\")\n",
    "print(f\"edge number: {int(np.mean(edge))}\")"
   ]
  }
 ],
 "metadata": {
  "kernelspec": {
   "display_name": "gongc",
   "language": "python",
   "name": "python3"
  },
  "language_info": {
   "codemirror_mode": {
    "name": "ipython",
    "version": 3
   },
   "file_extension": ".py",
   "mimetype": "text/x-python",
   "name": "python",
   "nbconvert_exporter": "python",
   "pygments_lexer": "ipython3",
   "version": "3.10.15"
  },
  "orig_nbformat": 4
 },
 "nbformat": 4,
 "nbformat_minor": 2
}
