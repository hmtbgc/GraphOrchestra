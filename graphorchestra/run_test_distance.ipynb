{
 "cells": [
  {
   "cell_type": "code",
   "execution_count": null,
   "metadata": {},
   "outputs": [],
   "source": [
    "import pickle\n",
    "import numpy as np"
   ]
  },
  {
   "cell_type": "code",
   "execution_count": null,
   "metadata": {},
   "outputs": [],
   "source": [
    "## deepseek\n",
    "from collections import deque\n",
    "\n",
    "def shortest_path_unweighted(G, u, v):\n",
    "    if u == v:\n",
    "        return 0\n",
    "    Q = deque([(u, [u], 0)])\n",
    "    visited = set()\n",
    "    while Q:\n",
    "        node, path, distance = Q.popleft()\n",
    "        if node == v:\n",
    "            return distance\n",
    "        visited.add(node)\n",
    "        for neighbor in G[node]:\n",
    "            if neighbor not in visited:\n",
    "                Q.append((neighbor, path + [neighbor], distance + 1))\n",
    "    return None\n"
   ]
  },
  {
   "cell_type": "code",
   "execution_count": null,
   "metadata": {},
   "outputs": [],
   "source": [
    "### 8b\n",
    "\n",
    "# import sys\n",
    "# from collections import deque\n",
    "\n",
    "# def shortest_path_unweighted(G, u, v):\n",
    "#     queue = deque([(u, 0)])  # Initialize the queue with the starting node and distance 0\n",
    "#     visited = set()  # Keep track of visited nodes to avoid infinite loops\n",
    "\n",
    "#     while queue:\n",
    "#         node, dist = queue.popleft()  # Dequeue the next node and its distance\n",
    "\n",
    "#         if node == v:  # If we've reached the target node, return the distance\n",
    "#             return dist\n",
    "\n",
    "#         visited.add(node)  # Mark the node as visited\n",
    "\n",
    "#         for neighbor in G[node]:  # Explore all neighbors of the current node\n",
    "#             if neighbor not in visited:  # If the neighbor has not been visited yet\n",
    "#                 queue.append((neighbor, dist + 1))  # Add the neighbor to the queue with the updated distance\n",
    "\n",
    "#     return -1  # If there is no path from u to v, return -1"
   ]
  },
  {
   "cell_type": "code",
   "execution_count": null,
   "metadata": {},
   "outputs": [],
   "source": [
    "# ### 70b\n",
    "\n",
    "# def shortest_path_unweighted(G, u, v):\n",
    "#     queue = [(u, [u], 0)]\n",
    "#     visited = set()\n",
    "#     while queue:\n",
    "#       node, path, distance = queue.pop(0)\n",
    "#       if node == v: \n",
    "#         return distance\n",
    "#       for neighbor in G[node]:\n",
    "#         if neighbor not in visited:\n",
    "#           visited.add(neighbor)\n",
    "#           queue.append((neighbor, path + [neighbor], distance + 1))\n",
    "#     return None\n"
   ]
  },
  {
   "cell_type": "code",
   "execution_count": null,
   "metadata": {},
   "outputs": [],
   "source": [
    "def read_graph(g):\n",
    "    node_number = g.number_of_nodes()\n",
    "    G = [[] for _ in range(node_number)]\n",
    "    for edge in g.edges():\n",
    "        # print(\"edge == \", edge)\n",
    "        G[edge[0]].append(edge[1])\n",
    "    return G"
   ]
  },
  {
   "cell_type": "code",
   "execution_count": null,
   "metadata": {},
   "outputs": [],
   "source": [
    "import time"
   ]
  },
  {
   "cell_type": "code",
   "execution_count": null,
   "metadata": {},
   "outputs": [],
   "source": [
    "import time\n",
    "for name in [\"Distance_easy\", \"Distance_hard\"]:\n",
    "    t1 = time.time()\n",
    "    with open(f'dataset/{name}.pkl', 'rb') as file:\n",
    "        data = pickle.load(file)\n",
    "    tot = len(data)\n",
    "    print(f\"total number of test cases: {tot}\")\n",
    "    correct = 0\n",
    "    node, edge = [], []\n",
    "    for i, x in enumerate(data):\n",
    "        exact_answer, graph, u, v = x[\"exact_answer\"], x[\"graph\"], x[\"source\"], x[\"target\"]\n",
    "        G = read_graph(graph)\n",
    "        node_number, edge_number = graph.number_of_nodes(), graph.number_of_edges()\n",
    "        node.append(node_number)\n",
    "        edge.append(edge_number)\n",
    "        predicted_answer = shortest_path_unweighted(G, u, v)\n",
    "        if (exact_answer != predicted_answer):\n",
    "            print(f\"{i}th result is wrong\")\n",
    "        else:\n",
    "            correct += 1\n",
    "    print(f\"correct rate is {correct / tot * 100:.2f}%\")\n",
    "    t2 = time.time()\n",
    "    print(f\"cost time: {t2 - t1:.2f}s\")\n",
    "    print(f\"node number: {int(np.mean(node))}\")\n",
    "    print(f\"edge number: {int(np.mean(edge))}\")"
   ]
  }
 ],
 "metadata": {
  "kernelspec": {
   "display_name": "gongc",
   "language": "python",
   "name": "python3"
  },
  "language_info": {
   "codemirror_mode": {
    "name": "ipython",
    "version": 3
   },
   "file_extension": ".py",
   "mimetype": "text/x-python",
   "name": "python",
   "nbconvert_exporter": "python",
   "pygments_lexer": "ipython3",
   "version": "3.10.15"
  },
  "orig_nbformat": 4
 },
 "nbformat": 4,
 "nbformat_minor": 2
}
