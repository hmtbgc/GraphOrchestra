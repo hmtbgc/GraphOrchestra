{
 "cells": [
  {
   "cell_type": "code",
   "execution_count": 8,
   "metadata": {},
   "outputs": [],
   "source": [
    "import pickle\n",
    "from tqdm import tqdm\n",
    "import numpy as np\n",
    "import time\n",
    "from func_timeout import func_set_timeout\n",
    "\n",
    "name = \"MIS_hard\"\n",
    "with open(f'new_dataset/{name}.pkl', 'rb') as file:\n",
    "    data = pickle.load(file)"
   ]
  },
  {
   "cell_type": "code",
   "execution_count": 9,
   "metadata": {},
   "outputs": [],
   "source": [
    "## deepseek\n",
    "def maximum_independent_set(G):\n",
    "    n = len(G)\n",
    "    degrees = [len(neighbors) for neighbors in G]\n",
    "    order = sorted(range(n), key=lambda x: degrees[x])\n",
    "    state = [0] * n\n",
    "    IS = 0\n",
    "    for v in order:\n",
    "        if state[v] == 0:\n",
    "            IS += 1\n",
    "            for u in G[v]:\n",
    "                state[u] = 1\n",
    "    return IS\n"
   ]
  },
  {
   "cell_type": "code",
   "execution_count": 10,
   "metadata": {},
   "outputs": [],
   "source": [
    "## 8b\n",
    "\n",
    "# def maximum_independent_set(G):\n",
    "#     n = len(G)\n",
    "#     degrees = [len(neighbors) for neighbors in G]\n",
    "#     sorted_nodes = sorted(range(n), key=lambda i: degrees[i])\n",
    "#     State = [0] * n\n",
    "#     IS = 0\n",
    "#     for v in sorted_nodes:\n",
    "#         if State[v] == 0:\n",
    "#             IS += 1\n",
    "#             State[v] = 1\n",
    "#             for u in G[v]:\n",
    "#                 State[u] = 1\n",
    "#     return IS\n"
   ]
  },
  {
   "cell_type": "code",
   "execution_count": 11,
   "metadata": {},
   "outputs": [],
   "source": [
    "### 70b\n",
    "\n",
    "# def maximum_independent_set(G):\n",
    "#     n = len(G)\n",
    "#     State = [0]*n\n",
    "#     IS = []\n",
    "#     vertices = sorted(range(n), key=lambda x: len(G[x]))\n",
    "#     for v in vertices:\n",
    "#         if State[v] == 0:\n",
    "#             IS.append(v)\n",
    "#             for u in G[v]:\n",
    "#                 State[u] = 1\n",
    "#     return len(IS)\n",
    "\n"
   ]
  },
  {
   "cell_type": "code",
   "execution_count": 12,
   "metadata": {},
   "outputs": [],
   "source": [
    "# ### no pse\n",
    "\n",
    "# @func_set_timeout(50)\n",
    "# def maximum_independent_set(G):\n",
    "#     n = len(G)\n",
    "#     color = [0] * n\n",
    "#     max_independent_set = 0\n",
    "\n",
    "#     def dfs(u):\n",
    "#         nonlocal max_independent_set\n",
    "#         color[u] = 1\n",
    "#         for v in G[u]:\n",
    "#             if color[v] == 0:\n",
    "#                 dfs(v)\n",
    "#             elif color[v] == 1:\n",
    "#                 color[u] = 2\n",
    "#                 return\n",
    "#         max_independent_set = max(max_independent_set, color.count(1))\n",
    "\n",
    "#     for i in range(n):\n",
    "#         if color[i] == 0:\n",
    "#             dfs(i)\n",
    "\n",
    "#     return max_independent_set"
   ]
  },
  {
   "cell_type": "code",
   "execution_count": 13,
   "metadata": {},
   "outputs": [],
   "source": [
    "def read_graph(g):\n",
    "    node_number = g.number_of_nodes()\n",
    "    G = [[] for _ in range(node_number)]\n",
    "    for edge in g.edges():\n",
    "        # print(\"edge == \", edge)\n",
    "        G[edge[0]].append(edge[1])\n",
    "    return G"
   ]
  },
  {
   "cell_type": "code",
   "execution_count": 14,
   "metadata": {},
   "outputs": [
    {
     "name": "stdout",
     "output_type": "stream",
     "text": [
      "500\n"
     ]
    },
    {
     "name": "stderr",
     "output_type": "stream",
     "text": [
      "500it [00:00, 17439.06it/s]"
     ]
    },
    {
     "name": "stdout",
     "output_type": "stream",
     "text": [
      "1th result is wrong\n",
      "18th result is wrong\n",
      "26th result is wrong\n",
      "42th result is wrong\n",
      "46th result is wrong\n",
      "52th result is wrong\n",
      "60th result is wrong\n",
      "62th result is wrong\n",
      "69th result is wrong\n",
      "92th result is wrong\n",
      "99th result is wrong\n",
      "112th result is wrong\n",
      "139th result is wrong\n",
      "150th result is wrong\n",
      "164th result is wrong\n",
      "175th result is wrong\n",
      "179th result is wrong\n",
      "181th result is wrong\n",
      "184th result is wrong\n",
      "196th result is wrong\n",
      "198th result is wrong\n",
      "202th result is wrong\n",
      "205th result is wrong\n",
      "207th result is wrong\n",
      "212th result is wrong\n",
      "217th result is wrong\n",
      "219th result is wrong\n",
      "231th result is wrong\n",
      "252th result is wrong\n",
      "255th result is wrong\n",
      "259th result is wrong\n",
      "271th result is wrong\n",
      "272th result is wrong\n",
      "276th result is wrong\n",
      "277th result is wrong\n",
      "281th result is wrong\n",
      "283th result is wrong\n",
      "292th result is wrong\n",
      "304th result is wrong\n",
      "308th result is wrong\n",
      "313th result is wrong\n",
      "332th result is wrong\n",
      "333th result is wrong\n",
      "335th result is wrong\n",
      "338th result is wrong\n",
      "341th result is wrong\n",
      "344th result is wrong\n",
      "352th result is wrong\n",
      "359th result is wrong\n",
      "394th result is wrong\n",
      "397th result is wrong\n",
      "404th result is wrong\n",
      "419th result is wrong\n",
      "423th result is wrong\n",
      "427th result is wrong\n",
      "434th result is wrong\n",
      "435th result is wrong\n",
      "443th result is wrong\n",
      "465th result is wrong\n",
      "469th result is wrong\n",
      "485th result is wrong\n",
      "490th result is wrong\n",
      "correct rate is 87.60%\n",
      "approximation ratio is 0.01236\n",
      "feasible rate is 100.00%\n",
      "tot time is 0.03s\n",
      "node: 18\n",
      "edge: 62\n"
     ]
    },
    {
     "name": "stderr",
     "output_type": "stream",
     "text": [
      "\n"
     ]
    }
   ],
   "source": [
    "import time\n",
    "\n",
    "tot = len(data)\n",
    "print(tot)\n",
    "correct = 0\n",
    "error = 0\n",
    "feasible = 0\n",
    "\n",
    "node, edge = [], []\n",
    "t1 = time.time()\n",
    "for i, x in tqdm(enumerate(data)):\n",
    "    exact_answer, graph = x[\"exact_answer\"], x[\"graph\"]\n",
    "    node.append(graph.number_of_nodes())\n",
    "    edge.append(graph.number_of_edges())\n",
    "    G = read_graph(graph)\n",
    "    predicted_answer = maximum_independent_set(G)\n",
    "    if (exact_answer != predicted_answer):\n",
    "        print(f\"{i}th result is wrong\")\n",
    "    else:\n",
    "        correct += 1\n",
    "    error += (abs(predicted_answer - exact_answer) / exact_answer)\n",
    "    if (predicted_answer <= exact_answer):\n",
    "        feasible += 1\n",
    "print(f\"correct rate is {correct / tot * 100:.2f}%\")\n",
    "print(f\"approximation ratio is {error / tot:.5f}\")\n",
    "print(f\"feasible rate is {feasible / tot * 100:.2f}%\")\n",
    "t2 = time.time()\n",
    "print(f\"tot time is {t2 - t1:.2f}s\")\n",
    "print(f\"node: {int(np.mean(node))}\")\n",
    "print(f\"edge: {int(np.mean(edge))}\")\n"
   ]
  }
 ],
 "metadata": {
  "kernelspec": {
   "display_name": "gongc",
   "language": "python",
   "name": "python3"
  },
  "language_info": {
   "codemirror_mode": {
    "name": "ipython",
    "version": 3
   },
   "file_extension": ".py",
   "mimetype": "text/x-python",
   "name": "python",
   "nbconvert_exporter": "python",
   "pygments_lexer": "ipython3",
   "version": "3.10.15"
  },
  "orig_nbformat": 4
 },
 "nbformat": 4,
 "nbformat_minor": 2
}
